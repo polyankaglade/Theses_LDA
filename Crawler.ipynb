{
 "cells": [
  {
   "cell_type": "markdown",
   "metadata": {},
   "source": [
    "# File downloading"
   ]
  },
  {
   "cell_type": "markdown",
   "metadata": {},
   "source": [
    "## Getting metadata from the API"
   ]
  },
  {
   "cell_type": "code",
   "execution_count": 1,
   "metadata": {},
   "outputs": [],
   "source": [
    "import requests\n",
    "import json\n",
    "\n",
    "from tqdm.auto import tqdm"
   ]
  },
  {
   "cell_type": "code",
   "execution_count": 2,
   "metadata": {},
   "outputs": [],
   "source": [
    "headers = {\n",
    "\"accept\": \"application/json, text/plain, */*\",\n",
    "\"accept-encoding\": \"gzip, deflate, br\",\n",
    "\"accept-language\": \"ru-RU,ru;q=0.9,en-US;q=0.8,en;q=0.7\",\n",
    "\"content-length\": \"215\",\n",
    "\"content-type\": \"application/json;charset=UTF-8\",\n",
    "\"origin\": \"https://www.hse.ru\",\n",
    "\"referer\": \"https://www.hse.ru/edu/vkr/index.html?faculty=139191145&textAvailable=1&lang=ru\",\n",
    "\"sec-fetch-dest\": \"empty\",\n",
    "\"sec-fetch-mode\": \"cors\",\n",
    "\"sec-fetch-site\": \"same-origin\",\n",
    "\"user-agent\": \"Mozilla/5.0 (Windows NT 10.0; Win64; x64) AppleWebKit/537.36 (KHTML, like Gecko) Chrome/86.0.4240.183 Safari/537.36\"\n",
    "}\n",
    "\n",
    "payload={\"author\":\"\",\n",
    "         \"vkrIds\":\"\",\n",
    "         \"faculty\":\"139191145\",\n",
    "         \"supervisor\":\"\",\n",
    "         \"year\":0,\n",
    "         \"title\":\"\",\n",
    "         \"level\":0,\n",
    "         \"score\":0,\n",
    "         \"programs\":\"\",\n",
    "         \"textAvailable\":\"1\",\n",
    "         \"lang\":\"ru\",\n",
    "         \"page\": None,\n",
    "         \"findMode\":False,\n",
    "         \"ruVersion\":True,\n",
    "         \"urlPrefix\":\"/edu/vkr\"}\n",
    "\n",
    "def get_vkrs_from_page(headers, payload, page):\n",
    "    \n",
    "    payload[\"page\"] = page\n",
    "\n",
    "    url = 'https://www.hse.ru/edu/vkr/api/list'\n",
    "    r = requests.post(url, data=json.dumps(payload), headers=headers)\n",
    "    vkr_list = r.json()['result']['vkrs']['list']\n",
    "\n",
    "\n",
    "    return vkr_list"
   ]
  },
  {
   "cell_type": "code",
   "execution_count": 4,
   "metadata": {},
   "outputs": [
    {
     "data": {
      "application/vnd.jupyter.widget-view+json": {
       "model_id": "67a601b300524be0b4970816e59a7ac9",
       "version_major": 2,
       "version_minor": 0
      },
      "text/plain": [
       "HBox(children=(HTML(value=''), FloatProgress(value=0.0, max=90.0), HTML(value='')))"
      ]
     },
     "metadata": {},
     "output_type": "display_data"
    },
    {
     "name": "stdout",
     "output_type": "stream",
     "text": [
      "\n",
      "895\n"
     ]
    }
   ],
   "source": [
    "vkrs = []\n",
    "\n",
    "for page in tqdm(range(1,91)):\n",
    "    \n",
    "    vkrs.extend(get_vkrs_from_page(headers, payload, page))\n",
    "    \n",
    "print(len(vkrs))"
   ]
  },
  {
   "cell_type": "code",
   "execution_count": 5,
   "metadata": {},
   "outputs": [
    {
     "data": {
      "text/plain": [
       "{'supervisor_title': ['Кучерская Майя Александровна'],\n",
       " 'supervisor_id': [135567],\n",
       " 'supervisor_other': None,\n",
       " 'en_supervisor_other': None,\n",
       " 'ou_title': 'Факультет гуманитарных наук',\n",
       " 'en_ou_title': 'Faculty of Humanities',\n",
       " 'ou_id': 139191145,\n",
       " 'level': 'Магистратура',\n",
       " 'en_level': 'Master',\n",
       " 'learn_program_title': 'Литературное мастерство',\n",
       " 'en_learn_program_title': 'Creative Writing',\n",
       " 'id': 370521098,\n",
       " 'create_time': '2020-06-04T16:21:15.000Z',\n",
       " 'code': '4B518870-0F70-4AC5-BE03-59824BCA4455',\n",
       " 'title': 'Миллениалы',\n",
       " 'last_name': 'Агеева',\n",
       " 'first_name': 'Екатерина',\n",
       " 'second_name': 'Анатольевна',\n",
       " 'en_title': 'Millennials',\n",
       " 'en_last_name': 'Ageeva',\n",
       " 'en_first_name': 'Ekaterina',\n",
       " 'en_second_name': 'Anatolevna',\n",
       " 'rating': 8,\n",
       " 'year': 2020,\n",
       " 'text_available': 1,\n",
       " 'type': 0,\n",
       " 'learn_program_group': None,\n",
       " 'learn_program': 267591984,\n",
       " 'abstract': 'Роман в рассказах \"Миллениалы\" - это история о людях из раннего поколения Y, заставших развал СССР в детстве и переживавших 90-е гг. в подростковом возрасте. Столкнувшись с кризисом среднего возраста и экзистенциальным кризисом, компания друзей, разбросанных по Петербургу и Ленинградской области, по-разному переживает уход близкого им человека. Так начинается новая для них жизнь, в которой смерть присутствует чуть ли не ежедневно в разных ипостасях. «Миллениалы» - произведение о том, как современное общество конструирует представления о смерти и пытается жить с ними в гармонии или же под знаком табу. <br><br>Представленный в дипломе отрывок - это две главы-рассказы с зарисовками из жизни главных героев: Званского и Костика. Связующая сюжетная линия романа будет представлена в дальнейшем в первой главе: похороны друга Лехи и открытие общего счета на похороны последнему из компании. Вероятно, в романе появится и детективная линия, связанная с желанием героем забрать накопленные деньги себе, но потратить их не на смерть, а на жизнь.',\n",
       " 'en_abstract': 'This novel is about the early millennials who remember the collapse of the USSR and the 90s. Faced with a midlife and an existential crises, a company of friends from St. Petersburg and the Leningrad Region is experiencing the death of a friend. So begins a new life for them. \"Millennials\" is a novel about death in modern society.\\r\\nThe presented fragment is stories about the life of the main characters. A connecting plot will be revealed in the future: a friend’s funeral and opening a common funeral account for the last of the company. There will be a detective line related to the desire to take back the accumulated money for oneself, but to spend it not on death, but on life.',\n",
       " 'file': None,\n",
       " 'filetype': None,\n",
       " 'filesize': None,\n",
       " 'filedate': '2020-06-04T16:21:15.000Z',\n",
       " 'show_rating': True,\n",
       " 'supervisors': [{'id': {'id': 135567,\n",
       "    'status_id': 124,\n",
       "    'title': 'Кучерская Майя Александровна',\n",
       "    'en_title': 'Maya A. Kucherskaya',\n",
       "    'cnt': '1',\n",
       "    'en_version_status': 2},\n",
       "   'name': 'Кучерская Майя Александровна',\n",
       "   'url': 'https://www.hse.ru/org/persons/135567'}],\n",
       " 'ou_url': 'https://www.hse.ru/org/url/139191145',\n",
       " 'orgUnut': 139191145,\n",
       " 'learn_program_title_url': '//hse.ru/ma/litmaster/',\n",
       " 'vkr_id': 370521098,\n",
       " 'vkr_url': '/edu/vkr/370521098',\n",
       " 'vkr_file': 'http://lms.hse.ru/ap_service.php?getwork=1&guid=4B518870-0F70-4AC5-BE03-59824BCA4455',\n",
       " 'dipType': 1,\n",
       " 'student': 'Агеева Екатерина Анатольевна'}"
      ]
     },
     "execution_count": 5,
     "metadata": {},
     "output_type": "execute_result"
    }
   ],
   "source": [
    "vkrs[0]"
   ]
  },
  {
   "cell_type": "code",
   "execution_count": 48,
   "metadata": {},
   "outputs": [],
   "source": [
    "from collections import Counter"
   ]
  },
  {
   "cell_type": "code",
   "execution_count": 52,
   "metadata": {},
   "outputs": [
    {
     "data": {
      "text/plain": [
       "{'История': 140,\n",
       " 'Филология': 139,\n",
       " 'Фундаментальная и компьютерная лингвистика': 119,\n",
       " 'Философия': 98,\n",
       " 'Культурология': 84,\n",
       " 'Визуальная культура': 35,\n",
       " 'История искусств': 34,\n",
       " 'Философская антропология': 31,\n",
       " 'Компьютерная лингвистика': 28,\n",
       " 'Литературное мастерство': 25,\n",
       " 'Прикладная культурология': 25,\n",
       " 'История художественной культуры и рынок искусства': 23,\n",
       " 'Теория языка и компьютерная лингвистика': 19,\n",
       " 'Компаративистика: русская литература в кросс-культурной перспективе': 18,\n",
       " 'Историческое знание': 13,\n",
       " 'Языковая политика в условиях этнокультурного разнообразия': 10,\n",
       " 'Философия и история религии': 10,\n",
       " 'Русский как иностранный во взаимодействии языков и культур': 9,\n",
       " 'Русская литература и компаративистика': 9,\n",
       " 'Медиевистика': 7,\n",
       " 'Культурная и интеллектуальная история: между Востоком и Западом': 5,\n",
       " 'Философия и религиоведение': 5,\n",
       " 'Лингвистическая теория и описание языка': 4,\n",
       " 'История знания и социальная история': 3}"
      ]
     },
     "execution_count": 52,
     "metadata": {},
     "output_type": "execute_result"
    }
   ],
   "source": [
    "faculties = [v['learn_program_title'] for f in vkrs]\n",
    "c = Counter(faculties)\n",
    "programme_stat = dict(c.most_common())\n",
    "programme_stat"
   ]
  },
  {
   "cell_type": "markdown",
   "metadata": {},
   "source": [
    "Writing to `.json` file"
   ]
  },
  {
   "cell_type": "code",
   "execution_count": 8,
   "metadata": {},
   "outputs": [
    {
     "data": {
      "text/plain": [
       "895"
      ]
     },
     "execution_count": 8,
     "metadata": {},
     "output_type": "execute_result"
    }
   ],
   "source": [
    "vkrs_dict = {vkr['vkr_id']: vkr for vkr in vkrs}\n",
    "len(vkrs_dict)"
   ]
  },
  {
   "cell_type": "code",
   "execution_count": 9,
   "metadata": {},
   "outputs": [],
   "source": [
    "with open ('vkrs_metada.json', 'w', encoding='utf-8') as output:\n",
    "    json.dump(vkrs_dict, output, ensure_ascii=False, indent=2)"
   ]
  },
  {
   "cell_type": "markdown",
   "metadata": {},
   "source": [
    "## Downloading texts"
   ]
  },
  {
   "cell_type": "code",
   "execution_count": 5,
   "metadata": {},
   "outputs": [],
   "source": [
    "import os\n",
    "import json\n",
    "import requests\n",
    "\n",
    "from tqdm.auto import tqdm"
   ]
  },
  {
   "cell_type": "code",
   "execution_count": 6,
   "metadata": {},
   "outputs": [],
   "source": [
    "with open ('vkrs_metada.json', 'r', encoding='utf-8') as f:\n",
    "    vkrs_dict = json.load(f)"
   ]
  },
  {
   "cell_type": "code",
   "execution_count": 8,
   "metadata": {},
   "outputs": [],
   "source": [
    "def get_file_type(content_type):\n",
    "    \n",
    "    if content_type == 'application/vnd.openxmlformats-officedocument.wordprocessingml.document':\n",
    "        file_type = 'docx'\n",
    "    elif content_type == 'application/pdf':\n",
    "        file_type = 'pdf'\n",
    "    elif content_type == 'application/msword':\n",
    "        file_type = 'doc'\n",
    "    elif content_type == 'application/zip':\n",
    "        file_type = 'zip'\n",
    "    elif content_type == 'text/html; charset=UTF-8':\n",
    "        file_type = 'html'\n",
    "    elif content_type == 'application/vnd.ms-excel':\n",
    "        file_type = 'xls'\n",
    "    elif content_type == 'application/vnd.oasis.opendocument.text':\n",
    "        file_type = 'odt'        \n",
    "    else:\n",
    "        file_type = 'unknown'\n",
    "        \n",
    "    return file_type\n",
    "\n",
    "def download(vkr_id, vkr_file, filepath=''):\n",
    "    resp = requests.get(vkr_file, allow_redirects=True)\n",
    "    file_type = get_file_type(resp.headers.get('content-type'))\n",
    "    \n",
    "    if file_type in ['zip', 'xls', 'unknown', 'doc']:\n",
    "        file_type = 'docx'\n",
    "        \n",
    "    file = f'{vkr_id}.{file_type}'\n",
    "    \n",
    "    full_path = os.path.join(filepath, file)\n",
    "    open(full_path, 'wb').write(resp.content)"
   ]
  },
  {
   "cell_type": "code",
   "execution_count": 9,
   "metadata": {},
   "outputs": [
    {
     "data": {
      "application/vnd.jupyter.widget-view+json": {
       "model_id": "8d8476c4ce7d476693905eac8bcd312d",
       "version_major": 2,
       "version_minor": 0
      },
      "text/plain": [
       "HBox(children=(HTML(value=''), FloatProgress(value=0.0, max=895.0), HTML(value='')))"
      ]
     },
     "metadata": {},
     "output_type": "display_data"
    },
    {
     "name": "stdout",
     "output_type": "stream",
     "text": [
      "153014193 http://lms.hse.ru/ap_service.php?getwork=1&guid=ED8FCFE9-D442-4C90-8F72-7B71D011D5F3\n",
      "153011503 http://lms.hse.ru/ap_service.php?getwork=1&guid=D34F9F02-9F06-4E60-83BC-DD20161CEAA4\n",
      "153008058 http://lms.hse.ru/ap_service.php?getwork=1&guid=C994AE14-DEBE-45C1-B1FE-494F178BE710\n",
      "153007783 http://lms.hse.ru/ap_service.php?getwork=1&guid=87C840EC-D11F-4581-80CF-7EB03B0C0BCC\n",
      "153014171 http://lms.hse.ru/ap_service.php?getwork=1&guid=D9514F20-32A7-4744-BCA1-C4FA3E72B7F6\n",
      "153009893 http://lms.hse.ru/ap_service.php?getwork=1&guid=C05E4D56-91EE-4421-B075-D5C70CDF46A0\n",
      "153006854 http://lms.hse.ru/ap_service.php?getwork=1&guid=A7AF35C6-EEE8-4989-B409-9C62C0DE9D17\n",
      "153012578 http://lms.hse.ru/ap_service.php?getwork=1&guid=5F597686-4499-43C6-8E91-33541F5AC208\n",
      "153007102 http://lms.hse.ru/ap_service.php?getwork=1&guid=A843AC79-ED70-43F7-AD27-B1B2FB5BA605\n",
      "153014761 http://lms.hse.ru/ap_service.php?getwork=1&guid=E516325B-54FA-42D9-89D8-04EAD5E092F6\n",
      "153016153 http://lms.hse.ru/ap_service.php?getwork=1&guid=796CC4E0-2C69-427B-AA1A-CA477994E856\n",
      "153007592 http://lms.hse.ru/ap_service.php?getwork=1&guid=B20800B7-F803-4EF3-B77A-53BAB85E6A9D\n",
      "153014942 http://lms.hse.ru/ap_service.php?getwork=1&guid=9E503D69-D334-4D05-B314-F12D8BE0259A\n",
      "153007391 http://lms.hse.ru/ap_service.php?getwork=1&guid=D7F7DC89-5389-4F81-AB37-5B48F1DCD27B\n",
      "153008838 http://lms.hse.ru/ap_service.php?getwork=1&guid=424F1749-A0D9-4740-B008-84D1F4EF2ACC\n",
      "153012067 http://lms.hse.ru/ap_service.php?getwork=1&guid=1144F446-B803-4F4C-B18E-570ABAD84C70\n",
      "153009227 http://lms.hse.ru/ap_service.php?getwork=1&guid=F0DFEB62-9A99-4D1D-965E-EF2E83B69B95\n",
      "153013949 http://lms.hse.ru/ap_service.php?getwork=1&guid=69F511D2-6AF7-4F9E-8ACF-F8DC247D8076\n",
      "153009491 http://lms.hse.ru/ap_service.php?getwork=1&guid=973DE982-6084-4591-BB5D-10749E3BC5DC\n",
      "153009917 http://lms.hse.ru/ap_service.php?getwork=1&guid=76D36231-E3C9-4518-8FAD-BF8C1F749B5A\n",
      "153007895 http://lms.hse.ru/ap_service.php?getwork=1&guid=C7174A54-97C9-4DB4-9E71-D3171B46D2C7\n",
      "153014264 http://lms.hse.ru/ap_service.php?getwork=1&guid=4166953F-7A01-40C9-8072-D64289E098E5\n",
      "153008530 http://lms.hse.ru/ap_service.php?getwork=1&guid=93A29C91-45D3-46AC-90C7-579BE4AF7DA2\n",
      "153015179 http://lms.hse.ru/ap_service.php?getwork=1&guid=4D726A12-4749-4795-B0C5-A59D2783EBBE\n",
      "153013981 http://lms.hse.ru/ap_service.php?getwork=1&guid=F6A5D069-BD93-44BA-BC54-5B0C63A2429F\n",
      "153013101 http://lms.hse.ru/ap_service.php?getwork=1&guid=3706BFCD-DA6C-4599-80F5-D9C6058F6F10\n",
      "153009525 http://lms.hse.ru/ap_service.php?getwork=1&guid=0FC1D6E2-B5E3-4F2C-99FE-C810B96236BF\n",
      "153008281 http://lms.hse.ru/ap_service.php?getwork=1&guid=F994CE74-DF99-436E-93A4-B70F4A1526C4\n",
      "153009131 http://lms.hse.ru/ap_service.php?getwork=1&guid=2985F946-CD6F-48C7-B42A-0B58A5501C61\n",
      "153011159 http://lms.hse.ru/ap_service.php?getwork=1&guid=773B53E7-DD0F-4DB6-AFA4-8547B1695AF9\n",
      "163799973 http://lms.hse.ru/ap_service.php?getwork=1&guid=89C23E7D-2DAD-4670-A5E9-3D2B1A5A0718\n",
      "153012260 http://lms.hse.ru/ap_service.php?getwork=1&guid=3577BD02-2C07-4D1E-B38C-A005C2530585\n",
      "153014429 http://lms.hse.ru/ap_service.php?getwork=1&guid=C76AC8E6-E40B-48B8-BFD2-EF080183DD17\n",
      "153014123 http://lms.hse.ru/ap_service.php?getwork=1&guid=0600475B-44A2-4BD9-BC3B-28EF3CF474D5\n",
      "153015656 http://lms.hse.ru/ap_service.php?getwork=1&guid=2EF968EF-862B-436C-969F-5ABC6B915E0B\n",
      "153014233 http://lms.hse.ru/ap_service.php?getwork=1&guid=E4850634-B26E-42D9-91AC-5D93869FF76B\n",
      "153015091 http://lms.hse.ru/ap_service.php?getwork=1&guid=5A2A4991-CA2B-4C5A-97D7-3C070E3EDCDA\n",
      "\n"
     ]
    }
   ],
   "source": [
    "for v_id, v_item in tqdm(vkrs_dict.items()):\n",
    "    try:\n",
    "        download(v_id, v_item['vkr_file'], filepath='./raw_files')\n",
    "    except Exception:\n",
    "        print(v_id, v_item['vkr_file'])"
   ]
  },
  {
   "cell_type": "markdown",
   "metadata": {},
   "source": [
    "*Anna Polyanskaya, 2021*"
   ]
  }
 ],
 "metadata": {
  "kernelspec": {
   "display_name": "Python 3",
   "language": "python",
   "name": "python3"
  },
  "language_info": {
   "codemirror_mode": {
    "name": "ipython",
    "version": 3
   },
   "file_extension": ".py",
   "mimetype": "text/x-python",
   "name": "python",
   "nbconvert_exporter": "python",
   "pygments_lexer": "ipython3",
   "version": "3.7.3"
  }
 },
 "nbformat": 4,
 "nbformat_minor": 2
}
