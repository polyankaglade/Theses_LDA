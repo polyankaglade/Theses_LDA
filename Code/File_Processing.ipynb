{
 "cells": [
  {
   "cell_type": "code",
   "execution_count": 1,
   "metadata": {},
   "outputs": [],
   "source": [
    "import os"
   ]
  },
  {
   "cell_type": "code",
   "execution_count": 2,
   "metadata": {},
   "outputs": [],
   "source": [
    "def select_files(folder_path, doc_type):\n",
    "    \n",
    "    file_names = []\n",
    "    for file_name in os.listdir(path=folder_path):\n",
    "        if file_name.endswith(doc_type):\n",
    "            file_names.append(file_name)\n",
    "            \n",
    "    return file_names"
   ]
  },
  {
   "cell_type": "code",
   "execution_count": 6,
   "metadata": {},
   "outputs": [],
   "source": [
    "raw_folder = './files'\n",
    "parsed_folder = './parsed_files'\n",
    "\n",
    "#os.mkdir(parsed_folder)"
   ]
  },
  {
   "cell_type": "markdown",
   "metadata": {},
   "source": [
    "# .docx"
   ]
  },
  {
   "cell_type": "code",
   "execution_count": 3,
   "metadata": {},
   "outputs": [],
   "source": [
    "import re\n",
    "import os\n",
    "from docx import Document\n",
    "\n",
    "from tqdm.auto import tqdm"
   ]
  },
  {
   "cell_type": "code",
   "execution_count": 4,
   "metadata": {},
   "outputs": [],
   "source": [
    "def parse_docx(filepath):\n",
    "    \n",
    "    document = Document(filepath)\n",
    "    all_paras = document.paragraphs\n",
    "    \n",
    "    text_list = [_.text for _ in all_paras]\n",
    "    text = '\\n'.join(text_list)\n",
    "    clean = re.sub(' \\n', '\\n', text)\n",
    "    \n",
    "    return clean\n",
    "    \n",
    "\n",
    "def write_docx(input_folder, output_folder, vkr_file):\n",
    "\n",
    "    vrk_id = vkr_file.split('.')[0]\n",
    "    in_filepath = os.path.join(input_folder, vkr_file)\n",
    "    out_filepath = os.path.join(output_folder, f'{vrk_id}.txt')\n",
    "    \n",
    "    text = parse_docx(in_filepath)\n",
    "    \n",
    "    with open(out_filepath, 'w', encoding='utf-8') as out:\n",
    "        out.write(text)\n",
    "    \n",
    "    return vrk_id"
   ]
  },
  {
   "cell_type": "code",
   "execution_count": 8,
   "metadata": {},
   "outputs": [
    {
     "data": {
      "application/vnd.jupyter.widget-view+json": {
       "model_id": "07f2e5ef62954680996704e5cb4ccbd0",
       "version_major": 2,
       "version_minor": 0
      },
      "text/plain": [
       "HBox(children=(HTML(value=''), FloatProgress(value=0.0, max=1.0), HTML(value='')))"
      ]
     },
     "metadata": {},
     "output_type": "display_data"
    },
    {
     "name": "stdout",
     "output_type": "stream",
     "text": [
      "\n"
     ]
    }
   ],
   "source": [
    "for docx in tqdm(docx_files):\n",
    "    \n",
    "    try:\n",
    "        v_id = write_docx(input_folder=raw_folder,\n",
    "                          output_folder=parsed_folder,\n",
    "                          vkr_file=docx)\n",
    "    except Exception as e:\n",
    "        print('error', docx, e)"
   ]
  },
  {
   "cell_type": "markdown",
   "metadata": {},
   "source": [
    "*Anna Polyanskaya, 2021*"
   ]
  }
 ],
 "metadata": {
  "kernelspec": {
   "display_name": "Python 3",
   "language": "python",
   "name": "python3"
  },
  "language_info": {
   "codemirror_mode": {
    "name": "ipython",
    "version": 3
   },
   "file_extension": ".py",
   "mimetype": "text/x-python",
   "name": "python",
   "nbconvert_exporter": "python",
   "pygments_lexer": "ipython3",
   "version": "3.7.3"
  }
 },
 "nbformat": 4,
 "nbformat_minor": 2
}
