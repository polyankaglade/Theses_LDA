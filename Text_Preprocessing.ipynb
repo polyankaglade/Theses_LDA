{
 "cells": [
  {
   "cell_type": "markdown",
   "metadata": {},
   "source": [
    "# Text Preprocessing\n",
    "\n",
    "In this notebook I preprocess raw `.txt` files, obtained from the previous step ([File Processing](./File_Processing.ipynb)).\n",
    "\n",
    "I do two changes:\n",
    "1. Cut out the title and contents pages by splitting the text on `Введение`\n",
    "2. Cut out Bibliography/References\n",
    "\n",
    "and show how it affects the volume of my data."
   ]
  },
  {
   "cell_type": "markdown",
   "metadata": {},
   "source": [
    "#### All imports"
   ]
  },
  {
   "cell_type": "code",
   "execution_count": 19,
   "metadata": {},
   "outputs": [],
   "source": [
    "import json\n",
    "\n",
    "import os\n",
    "import re\n",
    "\n",
    "import matplotlib.pyplot as plt"
   ]
  },
  {
   "cell_type": "markdown",
   "metadata": {},
   "source": [
    "#### Corrupted files"
   ]
  },
  {
   "cell_type": "code",
   "execution_count": 20,
   "metadata": {},
   "outputs": [],
   "source": [
    "with open('vkrs.json', 'r', encoding='utf-8') as v:\n",
    "    vkrs = json.load(v)\n",
    "\n",
    "\n",
    "lit_mast = [f\"{v['vkr_id']}.txt\" for v in vkrs if v['learn_program_title'] == 'Литературное мастерство']"
   ]
  },
  {
   "cell_type": "code",
   "execution_count": 21,
   "metadata": {},
   "outputs": [
    {
     "data": {
      "text/plain": [
       "29"
      ]
     },
     "execution_count": 21,
     "metadata": {},
     "output_type": "execute_result"
    }
   ],
   "source": [
    "eng = [\n",
    "    '228418157.txt',\n",
    "    '296294610.txt',\n",
    "    '413235300.txt',\n",
    "]\n",
    "\n",
    "blank = [\n",
    "    '296280186.txt', ## понять почему\n",
    "]\n",
    "\n",
    "corrupted = eng + blank + lit_mast\n",
    "len(corrupted)"
   ]
  },
  {
   "cell_type": "markdown",
   "metadata": {},
   "source": [
    "Files with no bibliography"
   ]
  },
  {
   "cell_type": "code",
   "execution_count": 8,
   "metadata": {},
   "outputs": [],
   "source": [
    "no_lit = ['182863373.txt', '206736428.txt', '206746223.txt', '206746343.txt', \n",
    "          '206746957.txt', '206747365.txt', '206747703.txt', '206755543.txt', '366645295.txt']"
   ]
  },
  {
   "cell_type": "markdown",
   "metadata": {},
   "source": [
    "#### Manual changes needed"
   ]
  },
  {
   "cell_type": "markdown",
   "metadata": {},
   "source": [
    "`153009796` - delete `[ГЛАВА 3. ВОПРОСЫ ИГРОВОЙ МЕХАНИКИ] ВВЕДЕНИЕ` [184]\n",
    "\n",
    "`153015091` - delete `[2. Глава 1. Теоретическое] введение` [41]\n",
    "\n",
    "`206751554` - replace `Вступление` for `Введение` (понять почему не распарсился титулник и оглавление)\n",
    "\n",
    "`206753739` - replace `Актуальность` for `Введение`\n",
    "\n",
    "`206755431` - add space and delete newline after `открывает следующее введение:`\n",
    "\n",
    "`206755839` - add `Введение` after `Москва 2017`\n",
    "\n",
    "`219832572` - add newline in `Введение. Андрей Белый и геометрия.`\n",
    "\n",
    "`296295072` - delete `[Введение] в проблематику`\n",
    "\n",
    "`368169307` - fix typo `Ведение`\n",
    "\n",
    "`370030380` - replace `Аннотация` for `Введение`"
   ]
  },
  {
   "cell_type": "markdown",
   "metadata": {},
   "source": [
    "`153009491` - replace `| БИБЛ  |` for `БИБЛИОГРАФИЯ`\n",
    "\n",
    "`153014521` - delete `Цитируемая литература`\n",
    "\n",
    "`182307950` - delete `Исследовательская литература:`\n",
    "\n",
    "`206756281` - delete newline after [15]th line (between `литература` and `в кросс-культурной`)\n",
    "\n",
    "`206731223` - replace `Список литературы и источников` for `Список использованных источников и литературы`\n",
    "\n",
    "`206745315` - replace `ЛИТЕРАТУРА` for `Библиография` [418]\n",
    "\n",
    "`206747703` - delete `Список источников и литературы `\n",
    "\n",
    "`206748102` - replace `Список использованной литературы и источников` for `Список использованных источников и литературы`\n",
    "\n",
    "`206748500` - replace `Примечания` for `Список использованных источников и литературы` [220]\n",
    "\n",
    "`206752914` - replace `СПИСОК ЛИТЕРАТУРЫ И ИСТОЧНИКОВ` for `Список использованных источников и литературы`\n",
    "\n",
    "`206755827` - replace `Библиографическое описание` for `Библиографический список`\n",
    "\n",
    "`219524491` - replace `Источники` for `Библиография` [365]\n",
    "\n",
    "`219584449` - replace `СПИСОК ИСТОЧНИКОВ И ЛИТЕРАТУРЫ` for `Список использованных источников и литературы`\n",
    "\n",
    "`220041648` - replace `Список литературы и источников` for `Список использованных источников и литературы` [441]\n",
    "\n",
    "`366242236` - replace `Список источников и критической литературы` for `Список использованных источников и литературы`\n",
    "\n",
    "`368409348` - replace `Список источников и литературы` for `Список использованных источников и литературы`\n",
    "\n",
    "`368892792` - replace `Литература` for `Библиография` [249]\n",
    "\n",
    "`369848996` - replace `Список источников и литературы` for `Список использованных источников и литературы`\n",
    "\n",
    "\n",
    "`182863373, 206736428, 206746223, 206746343, 206746957, 206747365, 206747703, 206755543, 366645295` - no bibliography (иногда просто нет, иногда не распарсилась из .docx, так что могут быть приложения)"
   ]
  },
  {
   "cell_type": "markdown",
   "metadata": {},
   "source": [
    "# Main functions"
   ]
  },
  {
   "cell_type": "code",
   "execution_count": 61,
   "metadata": {},
   "outputs": [],
   "source": [
    "def get_text(file, folder):\n",
    "    with open(os.path.join(folder, file), 'r', encoding='utf-8') as f:\n",
    "        text = f.read()\n",
    "    \n",
    "    text = text.replace('\\xa0', ' ')\n",
    "    return text"
   ]
  },
  {
   "cell_type": "code",
   "execution_count": 62,
   "metadata": {},
   "outputs": [],
   "source": [
    "def find_boundary(pattern, text, position='last', log=None):\n",
    "    \n",
    "    \"\"\"\n",
    "    Takes a compiled re pattern and searches for all it matches in a text,\n",
    "    than takes the last found instance.\n",
    "    \n",
    "    Returns the index of the last character if position is set to 'last', \n",
    "    otherwise returns the index of the first character.\n",
    "    Returns None if nothing was found.\n",
    "    \n",
    "    If log is an integer, prints out the context from i-log to i+log.\n",
    "    \"\"\"\n",
    "    \n",
    "    i = None\n",
    "    \n",
    "    if position == 'last':\n",
    "        match = [m.end() for m in re.finditer(pattern, text)]\n",
    "        if len(match) == 0:\n",
    "            i = None\n",
    "        else:\n",
    "            i = match[-1]\n",
    "        \n",
    "    else:\n",
    "        match = [m.start() for m in re.finditer(pattern, text)]\n",
    "        if len(match) == 0:\n",
    "            i = None\n",
    "        else:\n",
    "            i = match[-1]\n",
    "        \n",
    "        \n",
    "    if type(log) == int:\n",
    "        if i is not None:\n",
    "            print(text[i-log:i+log])\n",
    "        else:\n",
    "            print('not found')\n",
    "        \n",
    "    return i"
   ]
  },
  {
   "cell_type": "markdown",
   "metadata": {},
   "source": [
    "## Introduction"
   ]
  },
  {
   "cell_type": "code",
   "execution_count": 63,
   "metadata": {},
   "outputs": [],
   "source": [
    "intro_pattern = re.compile(r\"введение.{0,1}\\s*\\d*\\n\", flags=re.IGNORECASE)\n",
    "\n",
    "def find_start(text):\n",
    "    \n",
    "    i = find_boundary(intro_pattern, text, position='last')\n",
    "    \n",
    "    if i is None:\n",
    "        i = 0\n",
    "    \n",
    "    return i"
   ]
  },
  {
   "cell_type": "markdown",
   "metadata": {},
   "source": [
    "## References"
   ]
  },
  {
   "cell_type": "code",
   "execution_count": 64,
   "metadata": {},
   "outputs": [],
   "source": [
    "biblio = re.compile(r\"библиография.{0,1}\\s*\\d*\\n\", flags=re.IGNORECASE)\n",
    "bib_list = re.compile(r\"библиографический список.{0,1}\\s*\\d*\\n\", flags=re.IGNORECASE)\n",
    "\n",
    "ref_lit_list = re.compile(r\"список использованных источников и литературы.{0,1}\\s*\\d*\\n\", flags=re.IGNORECASE)\n",
    "\n",
    "ref_list = re.compile(r\"список \\w{0,14} {0,1}источников.{0,1}\\s*\\d*\\n\", flags=re.IGNORECASE)\n",
    "lit_list = re.compile(r\"список \\w{0,14} {0,1}литературы.{0,1}\\s*\\d*\\n\", flags=re.IGNORECASE)\n",
    "\n",
    "ref = re.compile(r\"источники.{0,1}\\s*\\d*\\n\", flags=re.IGNORECASE)\n",
    "lit = re.compile(r\"литература.{0,1}\\s*\\d*\\n\", flags=re.IGNORECASE)\n",
    "\n",
    "bib_patterns = [biblio, bib_list, ref_lit_list, ref_list, lit_list]"
   ]
  },
  {
   "cell_type": "code",
   "execution_count": 65,
   "metadata": {},
   "outputs": [],
   "source": [
    "def find_end(text, intro=None):\n",
    "    \n",
    "    # intro index is neded for excluding mentions in the 'contents' section\n",
    "    if intro is None:\n",
    "        intro = find_start(text)\n",
    "    \n",
    "    # first check the usual biblography names\n",
    "    all_indexes = [find_boundary(p, text, position='first') for p in bib_patterns]\n",
    "    res = [i for i in all_indexes if i is not None and i > intro]\n",
    "    \n",
    "    # if nothing was found try 'источники' and 'литература'\n",
    "    if len(res) == 0:\n",
    "        ref_lit = [find_boundary(p, t, position='last') for p in [ref, lit]]\n",
    "        res = [i for i in ref_lit if i is not None and i > intro]\n",
    "    \n",
    "    # if nothing was found again, return full length as index\n",
    "     # else take the earliest found index \n",
    "    if len(res) == 0:\n",
    "        return len(t)\n",
    "    else:        \n",
    "        return min(res)"
   ]
  },
  {
   "cell_type": "markdown",
   "metadata": {},
   "source": [
    "## Cutting"
   ]
  },
  {
   "cell_type": "code",
   "execution_count": 66,
   "metadata": {},
   "outputs": [],
   "source": [
    "def cut_text(text):\n",
    "    \n",
    "    start = find_start(text)\n",
    "    \n",
    "    end = find_end(text, start)\n",
    "    \n",
    "    return text[start:end]"
   ]
  },
  {
   "cell_type": "markdown",
   "metadata": {},
   "source": [
    "# For single file"
   ]
  },
  {
   "cell_type": "code",
   "execution_count": 67,
   "metadata": {},
   "outputs": [],
   "source": [
    "raw_folder = './parsed_files'\n",
    "processed_folder = './cut_texts'\n",
    "\n",
    "def full_cut(file_id, input_folder, output_folder):\n",
    "    \n",
    "    file = f'{file_id}.txt'\n",
    "    \n",
    "    text = get_text(file, input_folder)\n",
    "    \n",
    "    main_text = cut_text(text)\n",
    "    \n",
    "    with open(os.path.join(output_folder, file), 'w', encoding='utf-8') as out:\n",
    "        out.write(main_text)"
   ]
  },
  {
   "cell_type": "code",
   "execution_count": 68,
   "metadata": {},
   "outputs": [],
   "source": [
    "# full_cut('206756115', raw_folder, processed_folder)"
   ]
  },
  {
   "cell_type": "markdown",
   "metadata": {},
   "source": [
    "# Bulck file cutting"
   ]
  },
  {
   "cell_type": "code",
   "execution_count": 69,
   "metadata": {},
   "outputs": [],
   "source": [
    "raw_folder = './parsed_files'\n",
    "processed_folder = './cut_texts'"
   ]
  },
  {
   "cell_type": "markdown",
   "metadata": {},
   "source": [
    "### Loading everything in"
   ]
  },
  {
   "cell_type": "code",
   "execution_count": 70,
   "metadata": {},
   "outputs": [
    {
     "data": {
      "text/plain": [
       "578"
      ]
     },
     "execution_count": 70,
     "metadata": {},
     "output_type": "execute_result"
    }
   ],
   "source": [
    "files = [f for f in os.listdir(path=raw_folder) if f not in corrupted]\n",
    "len(files)"
   ]
  },
  {
   "cell_type": "code",
   "execution_count": 71,
   "metadata": {},
   "outputs": [
    {
     "data": {
      "text/plain": [
       "578"
      ]
     },
     "execution_count": 71,
     "metadata": {},
     "output_type": "execute_result"
    }
   ],
   "source": [
    "texts = []\n",
    "\n",
    "for file in files:\n",
    "    texts.append(get_text(file, raw_folder))\n",
    "    \n",
    "lengths = [len(t) for t in texts]\n",
    "    \n",
    "len(texts)"
   ]
  },
  {
   "cell_type": "markdown",
   "metadata": {},
   "source": [
    "### Getting the boundaries"
   ]
  },
  {
   "cell_type": "code",
   "execution_count": 72,
   "metadata": {},
   "outputs": [],
   "source": [
    "intros = []\n",
    "\n",
    "for t, f in zip(texts, files):\n",
    "    i = find_start(t)\n",
    "    intros.append(i)\n",
    "    if i == 0:\n",
    "        print(f)\n",
    "        print(t[:2000])\n",
    "        print('-------------------')"
   ]
  },
  {
   "cell_type": "code",
   "execution_count": 73,
   "metadata": {},
   "outputs": [],
   "source": [
    "ends = []\n",
    "\n",
    "for t, f, intro in zip(texts, files, intros):\n",
    "    \n",
    "    i = find_end(t, intro)\n",
    "    ends.append(i)\n",
    "    \n",
    "    if i == 0 and f not in no_lit:\n",
    "        print(f)"
   ]
  },
  {
   "cell_type": "markdown",
   "metadata": {},
   "source": [
    "### Cutting and writing files"
   ]
  },
  {
   "cell_type": "code",
   "execution_count": 74,
   "metadata": {},
   "outputs": [],
   "source": [
    "main_texts = []\n",
    "\n",
    "for text, file, start, end in zip(texts, files, intros, ends):\n",
    "    main_text = text[start:end]\n",
    "    main_texts.append(main_text)\n",
    "    \n",
    "    with open(os.path.join(processed_folder, file), 'w', encoding='utf-8') as out:\n",
    "        out.write(main_text)"
   ]
  },
  {
   "cell_type": "markdown",
   "metadata": {},
   "source": [
    "# EDA"
   ]
  },
  {
   "cell_type": "markdown",
   "metadata": {},
   "source": [
    "## Main text in realtion to the whole raw document range"
   ]
  },
  {
   "cell_type": "code",
   "execution_count": 55,
   "metadata": {},
   "outputs": [
    {
     "data": {
      "image/png": "[encoded data removed]",
      "text/plain": [
       "<Figure size 432x288 with 1 Axes>"
      ]
     },
     "metadata": {
      "needs_background": "light"
     },
     "output_type": "display_data"
    }
   ],
   "source": [
    "plt.hist(intros, bins=100)\n",
    "plt.title('index of the start of inroduction')\n",
    "plt.show()"
   ]
  },
  {
   "cell_type": "code",
   "execution_count": 56,
   "metadata": {},
   "outputs": [
    {
     "data": {
      "image/png": "[encoded data removed]",
      "text/plain": [
       "<Figure size 432x288 with 1 Axes>"
      ]
     },
     "metadata": {
      "needs_background": "light"
     },
     "output_type": "display_data"
    }
   ],
   "source": [
    "plt.hist([i*100/l for i,l in zip(intros, lengths)], bins=100)\n",
    "plt.title('% of the text before introduction')\n",
    "plt.show()"
   ]
  },
  {
   "cell_type": "code",
   "execution_count": 57,
   "metadata": {},
   "outputs": [
    {
     "data": {
      "image/png": "[encoded data removed]",
      "text/plain": [
       "<Figure size 432x288 with 1 Axes>"
      ]
     },
     "metadata": {
      "needs_background": "light"
     },
     "output_type": "display_data"
    }
   ],
   "source": [
    "plt.hist([e*100/l for e,l in zip(ends, lengths)], bins=100)\n",
    "plt.title('% of the text before bibliography')\n",
    "plt.show()"
   ]
  },
  {
   "cell_type": "code",
   "execution_count": 58,
   "metadata": {},
   "outputs": [
    {
     "data": {
      "image/png": "[encoded data removed]",
      "text/plain": [
       "<Figure size 432x288 with 1 Axes>"
      ]
     },
     "metadata": {
      "needs_background": "light"
     },
     "output_type": "display_data"
    }
   ],
   "source": [
    "volumes = [(e-i)*100/l for i, e, l in zip(intros, ends, lengths)]\n",
    "\n",
    "plt.hist(volumes, bins=100)\n",
    "plt.title('% of the remaining volume')\n",
    "plt.show()"
   ]
  },
  {
   "cell_type": "markdown",
   "metadata": {},
   "source": [
    "Checking some suspicious cases"
   ]
  },
  {
   "cell_type": "code",
   "execution_count": 59,
   "metadata": {},
   "outputs": [
    {
     "name": "stdout",
     "output_type": "stream",
     "text": [
      "182795876.txt\n",
      "219740682.txt\n",
      "296307429.txt\n",
      "366241709.txt\n",
      "368722283.txt\n"
     ]
    }
   ],
   "source": [
    "for t, f, v in zip(texts, files, volumes):\n",
    "    if v < 50:\n",
    "        print(f)"
   ]
  },
  {
   "cell_type": "code",
   "execution_count": 60,
   "metadata": {},
   "outputs": [
    {
     "name": "stdout",
     "output_type": "stream",
     "text": [
      " сложившуюся ситуацию не представляется возможным, в виду вышеперечисленных причин.\n",
      "\n",
      "\n",
      "\n",
      "\n",
      "\n",
      "\n",
      "\n",
      "\n",
      "\n",
      "\n",
      "\n",
      "\n",
      "\n",
      "\n",
      "\n",
      "\n",
      "Список литературы\n",
      "Белая В. А. (2009) Профессия как социологическая категория: основные подходы к опр\n",
      "182795876.txt\n",
      "----------\n",
      "е и практически может быть приложена к другим этническим традиционным культурам. \n",
      "\n",
      "\n",
      "\n",
      "\n",
      "\n",
      "\n",
      "\n",
      "Источники\n",
      "\n",
      "Интервью с Г.Г. Абдрахмановой в Москве 29.04.2019. (Архив автора)\n",
      "Интервью с А.А. Абдрахмановым в Мо\n",
      "296307429.txt\n",
      "----------\n",
      "езусловная благодарность моей чудесной маме, которая мотивировала все мои лучшие победы.\n",
      "Литература\n",
      "Busse K. Framing Fan Fiction: Literary and Social Practices in Fan Fiction Communities, University o\n",
      "366241709.txt\n",
      "----------\n"
     ]
    }
   ],
   "source": [
    "for t, f, e, l in zip(texts, files, ends, lengths):\n",
    "    percent = e*100/l\n",
    "    if 0 < percent <= 40:\n",
    "        print(t[e-100:e+100])\n",
    "        print(f)\n",
    "        print('----------')"
   ]
  },
  {
   "cell_type": "markdown",
   "metadata": {},
   "source": [
    "*Anna Polyanskaya, 2021*"
   ]
  }
 ],
 "metadata": {
  "kernelspec": {
   "display_name": "Python 3",
   "language": "python",
   "name": "python3"
  },
  "language_info": {
   "codemirror_mode": {
    "name": "ipython",
    "version": 3
   },
   "file_extension": ".py",
   "mimetype": "text/x-python",
   "name": "python",
   "nbconvert_exporter": "python",
   "pygments_lexer": "ipython3",
   "version": "3.7.3"
  }
 },
 "nbformat": 4,
 "nbformat_minor": 2
}
